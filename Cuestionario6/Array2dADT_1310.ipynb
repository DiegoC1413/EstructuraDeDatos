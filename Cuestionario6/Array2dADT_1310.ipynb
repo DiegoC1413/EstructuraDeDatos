{
  "nbformat": 4,
  "nbformat_minor": 0,
  "metadata": {
    "colab": {
      "name": "Array2dADT_1310.ipynb",
      "provenance": [],
      "collapsed_sections": []
    },
    "kernelspec": {
      "name": "python3",
      "display_name": "Python 3"
    },
    "language_info": {
      "name": "python"
    }
  },
  "cells": [
    {
      "cell_type": "code",
      "metadata": {
        "id": "XV-CtWBimjIv"
      },
      "source": [
        "class Array2DADT:\n",
        "    def __init__(self,  ren , col ):\n",
        "        self.__pollo = [ [0 for y in range(col) ] for x in range(ren)]\n",
        "    \n",
        "    def clear (self, dato ):\n",
        "        self.__pollo = [ [dato for y in range(self.get_col_size()) ] for x in range(self.get_row_size())]\n",
        "\n",
        "    def get_row_size(self):\n",
        "        return len(self.__pollo) \n",
        "\n",
        "    def get_col_size(self):\n",
        "        return len(self.__pollo[0])\n",
        "\n",
        "    def set_item(self, ren , col, dato):\n",
        "        self.__pollo[ren][col] = dato\n",
        "\n",
        "    def get_item(self, ren , col):\n",
        "        return self.__pollo[ren][col]\n",
        "    \n",
        "    def to_string(self ):\n",
        "        cadena = \"\"\n",
        "        for renglon in self.__pollo:\n",
        "            cadena = cadena + \"|\"\n",
        "            for dato in renglon:\n",
        "                cadena= cadena + str(dato) + \" | \"\n",
        "            cadena = cadena + \"\\n\"\n",
        "        return cadena"
      ],
      "execution_count": 24,
      "outputs": []
    },
    {
      "cell_type": "code",
      "metadata": {
        "colab": {
          "base_uri": "https://localhost:8080/"
        },
        "id": "wfkb-OkJoq77",
        "outputId": "feb78a78-a8d7-49b1-f248-147856cb8817"
      },
      "source": [
        "a2d = Array2DADT( 3 , 6)\n",
        "print(f\"Ren: {a2d.get_row_size()}\")\n",
        "print(f\"Col: {a2d.get_col_size()}\")\n",
        "print(a2d.to_string())\n",
        "print(\"\")\n",
        "a2d.clear(\"M\")\n",
        "print(a2d.to_string())\n",
        "a2d.set_item(2,3, \"p\")\n",
        "print(a2d.to_string())\n",
        "print(a2d.get_item(2,3))"
      ],
      "execution_count": 29,
      "outputs": [
        {
          "output_type": "stream",
          "name": "stdout",
          "text": [
            "Ren: 3\n",
            "Col: 6\n",
            "|0 | 0 | 0 | 0 | 0 | 0 | \n",
            "|0 | 0 | 0 | 0 | 0 | 0 | \n",
            "|0 | 0 | 0 | 0 | 0 | 0 | \n",
            "\n",
            "\n",
            "|M | M | M | M | M | M | \n",
            "|M | M | M | M | M | M | \n",
            "|M | M | M | M | M | M | \n",
            "\n",
            "|M | M | M | M | M | M | \n",
            "|M | M | M | M | M | M | \n",
            "|M | M | M | p | M | M | \n",
            "\n",
            "p\n"
          ]
        }
      ]
    }
  ]
}