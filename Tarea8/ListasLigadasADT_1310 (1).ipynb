{
  "nbformat": 4,
  "nbformat_minor": 0,
  "metadata": {
    "colab": {
      "name": "ListasLigadasADT_1310.ipynb",
      "provenance": []
    },
    "kernelspec": {
      "name": "python3",
      "display_name": "Python 3"
    },
    "language_info": {
      "name": "python"
    }
  },
  "cells": [
    {
      "cell_type": "code",
      "metadata": {
        "id": "jPheJxoC-icn"
      },
      "source": [
        "class Nodo:\n",
        "    def __init__( self , valor , siguiente = None ):\n",
        "        self.data = valor\n",
        "        self.next = siguiente"
      ],
      "execution_count": 1,
      "outputs": []
    },
    {
      "cell_type": "code",
      "metadata": {
        "colab": {
          "base_uri": "https://localhost:8080/"
        },
        "id": "W7vtvJxi_FLj",
        "outputId": "87d30016-f9a3-4760-b4cb-afaf27c31f18"
      },
      "source": [
        "head = Nodo( 10 )\n",
        "print( head.data )"
      ],
      "execution_count": 2,
      "outputs": [
        {
          "output_type": "stream",
          "name": "stdout",
          "text": [
            "10\n"
          ]
        }
      ]
    },
    {
      "cell_type": "code",
      "metadata": {
        "colab": {
          "base_uri": "https://localhost:8080/"
        },
        "id": "RXn_Yn-v_KNh",
        "outputId": "a48cb8bc-d13c-480a-fe51-5ae7a950e35e"
      },
      "source": [
        "head = Nodo( 10 )\n",
        "head.next = Nodo( 20 ) \n",
        "print( f\"Primero = {head.data}\")\n",
        "print( f\"Segundo = {head.next.data}\")\n",
        "\n",
        "#lo mismo pero ahorrando codigo\n",
        "head = Nodo( 10 , Nodo(20) )\n",
        "print( f\"Primero = {head.data}\")\n",
        "print( f\"Segundo = {head.next.data}\")\n",
        "\n",
        "#transversal\n",
        "curr_node = head\n",
        "while curr_node != None:\n",
        "    print(f\"| {curr_node.data} | --> \", end=\"\")\n",
        "    curr_node = curr_node.next\n",
        "print(\"\")"
      ],
      "execution_count": 3,
      "outputs": [
        {
          "output_type": "stream",
          "name": "stdout",
          "text": [
            "Primero = 10\n",
            "Segundo = 20\n",
            "Primero = 10\n",
            "Segundo = 20\n",
            "| 10 | --> | 20 | --> \n"
          ]
        }
      ]
    },
    {
      "cell_type": "code",
      "metadata": {
        "colab": {
          "base_uri": "https://localhost:8080/"
        },
        "id": "PKsp_CDN_MON",
        "outputId": "d4462f72-3e2e-4514-c292-abb16ffccaf6"
      },
      "source": [
        "head = Nodo( 10 , Nodo(20, Nodo(30 , Nodo(40) )))\n",
        "# Nodo( valor, siguiente)\n",
        "#Transversal\n",
        "curr_node = head\n",
        "while curr_node != None:\n",
        "    print(f\"| {curr_node.data} | --> \", end=\"\")\n",
        "    curr_node = curr_node.next\n",
        "print(\"\")\n",
        "\n",
        "# imprimir el primero\n",
        "print(head.data)\n",
        "\n",
        "#imprimir el ultimo\n",
        "curr_node = head\n",
        "while curr_node.next != None:\n",
        "    curr_node = curr_node.next\n",
        "print( curr_node.data )\n",
        "\n",
        "#Insertar del nodo 25. despues del nodo 20 y antes del nodo 30\n",
        "curr_node = head\n",
        "while curr_node.data != 20:\n",
        "    curr_node = curr_node.next\n",
        "print(curr_node.data)\n",
        "\n",
        "#crear el nodo 25\n",
        "curr_node.next = Nodo( 25 , curr_node.next )\n",
        "print(\"Despues de insertar 25\")\n",
        "#Transversal\n",
        "curr_node = head\n",
        "while curr_node != None:\n",
        "    print(f\"| {curr_node.data} | --> \", end=\"\")\n",
        "    curr_node = curr_node.next\n",
        "print(\"\")"
      ],
      "execution_count": 4,
      "outputs": [
        {
          "output_type": "stream",
          "name": "stdout",
          "text": [
            "| 10 | --> | 20 | --> | 30 | --> | 40 | --> \n",
            "10\n",
            "40\n",
            "20\n",
            "Despues de insertar 25\n",
            "| 10 | --> | 20 | --> | 25 | --> | 30 | --> | 40 | --> \n"
          ]
        }
      ]
    },
    {
      "cell_type": "code",
      "metadata": {
        "id": "lbO1IdXd_RCE"
      },
      "source": [
        "class LinkedList:\n",
        "    def __init__( self ):\n",
        "        self.head = None\n",
        "\n",
        "    def is_empty( self ): #true o false\n",
        "        return self.head == None\n",
        "\n",
        "    def get_tail( self ):\n",
        "        if self.is_empty():\n",
        "            return None\n",
        "        else:\n",
        "            curr_node = self.head\n",
        "            while curr_node.next != None:\n",
        "                curr_node = curr_node.next\n",
        "            return curr_node\n",
        "\n",
        "    def append( self , value ):\n",
        "        if self.head == None:\n",
        "            self.head = Nodo( value )\n",
        "        else:\n",
        "            curr_node = self.head\n",
        "            while curr_node.next != None:\n",
        "                curr_node = curr_node.next\n",
        "            curr_node.next = Nodo(value)\n",
        "\n",
        "    def transversal( self ):\n",
        "        curr_node = self.head\n",
        "        while curr_node != None:\n",
        "            print( f\"| { curr_node.data } | -->\" , end=\"\" )\n",
        "            curr_node = curr_node.next\n",
        "        print(\"\")\n",
        "\n",
        "    def remove( self , value ):\n",
        "        if self.head == None:\n",
        "            print(\"Lista vacia. no se puede hacer nada\")\n",
        "        else:\n",
        "            curr_node = self.head\n",
        "            aux = None\n",
        "            while curr_node.data != value: # revisar cuando el valor no exista\n",
        "                aux = curr_node\n",
        "                curr_node = curr_node.next\n",
        "            \n",
        "            if curr_node != None:\n",
        "                aux.next = curr_node.next\n",
        "                curr_node = None\n",
        "    def preppend( self, value ):\n",
        "        if self.head == None:\n",
        "            print(\"Lista vacia. no se puede hacer Preppend\")\n",
        "        else:\n",
        "            aux = self.head\n",
        "            self.head = Nodo( value , aux )\n",
        "\n",
        "    def pop( self ):\n",
        "        curr_node = self.head\n",
        "        aux = self.get_tail\n",
        "        while curr_node != aux:     \n",
        "            curr_node = curr_node.next\n",
        "        \n",
        "    def pop_first( self ):\n",
        "        curr_node = self.head\n",
        "        self.head = curr_node.next\n",
        "        while curr_node != None:\n",
        "            curr_node = curr_node.next\n"
      ],
      "execution_count": 7,
      "outputs": []
    },
    {
      "cell_type": "code",
      "metadata": {
        "colab": {
          "base_uri": "https://localhost:8080/"
        },
        "id": "gOcl3b6lAPBA",
        "outputId": "532a3a74-59fc-49b7-92d0-6fc09cf878ae"
      },
      "source": [
        "lista = LinkedList()\n",
        "if lista.is_empty():\n",
        "    print(\"La lista esta vacia\")\n",
        "else:\n",
        "    print(\"La lista no esta vacia\")\n",
        "\n",
        "lista.append(10)\n",
        "lista.append(20)\n",
        "lista.append(30)\n",
        "lista.append(40)\n",
        "lista.append(50)\n",
        "\n",
        "nodo = lista.get_tail()\n",
        "if nodo != None:\n",
        "    print(nodo.data)\n",
        "else:\n",
        "    print(\"Lista esta vacia\")\n",
        "\n",
        "lista.transversal()\n",
        "lista.remove(30)\n",
        "lista.transversal()\n",
        "lista.preppend(5)\n",
        "lista.transversal()"
      ],
      "execution_count": 8,
      "outputs": [
        {
          "output_type": "stream",
          "name": "stdout",
          "text": [
            "La lista esta vacia\n",
            "50\n",
            "| 10 | -->| 20 | -->| 30 | -->| 40 | -->| 50 | -->\n",
            "| 10 | -->| 20 | -->| 40 | -->| 50 | -->\n",
            "| 5 | -->| 10 | -->| 20 | -->| 40 | -->| 50 | -->\n"
          ]
        }
      ]
    }
  ]
}