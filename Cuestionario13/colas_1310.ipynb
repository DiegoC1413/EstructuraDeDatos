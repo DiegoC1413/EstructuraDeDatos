{
  "nbformat": 4,
  "nbformat_minor": 0,
  "metadata": {
    "colab": {
      "name": "colas_1310.ipynb",
      "provenance": []
    },
    "kernelspec": {
      "name": "python3",
      "display_name": "Python 3"
    },
    "language_info": {
      "name": "python"
    }
  },
  "cells": [
    {
      "cell_type": "code",
      "metadata": {
        "id": "kt2fTXQwRNQ0"
      },
      "source": [
        "class PriorityQueue:\n",
        "    def __init__( self ):\n",
        "        self.data = []\n",
        "\n",
        "    def is_empty( self ):\n",
        "        return len( self.data ) == 0\n",
        "\n",
        "    def length( self ):\n",
        "        return len( self.data )        \n",
        "\n",
        "    def enqueue( self , value ):\n",
        "        self.data.append( value )\n",
        "\n",
        "    def dequeue( self ):\n",
        "        return self.data.pop(0)\n",
        "\n",
        "    def to_string( self ):\n",
        "        for elem in self.data: \n",
        "            print(f\"|{ elem }| <--\" , end=\"\" )            \n",
        "        print(\"\")\n",
        "\n",
        "    def delete(self):\n",
        "        try:\n",
        "            max = 0\n",
        "            for i in range(len(self.data)):\n",
        "                if self.data[i] > self.data[max]:\n",
        "                    max = i\n",
        "            item = self.data[max]\n",
        "            del self.data[max]\n",
        "            return item\n",
        "        except IndexError:\n",
        "            print()\n",
        "            exit()\n"
      ],
      "execution_count": 1,
      "outputs": []
    },
    {
      "cell_type": "code",
      "metadata": {
        "colab": {
          "base_uri": "https://localhost:8080/"
        },
        "id": "aPzeJW7XSMod",
        "outputId": "5e21ffd4-e9d2-4499-d480-1fa2e89cec7c"
      },
      "source": [
        "cola = PriorityQueue()\n",
        "print(\"Esta vacio??: \" , cola.is_empty())\n",
        "print(\"numero de elementos: \" , cola.length())\n",
        "cola.enqueue(10 )\n",
        "cola.enqueue(40 )\n",
        "cola.enqueue( 20 )\n",
        "print(\"Esta vacio?: \" , cola.is_empty())\n",
        "print(\"Numero de elementos: \" , cola.length())\n",
        "cola.enqueue(30 )\n",
        "cola.enqueue(50 )\n",
        "cola.enqueue(60  )\n",
        "cola.to_string()\n",
        "siguiente = cola.dequeue()\n",
        "print(\"Atendiendo a :\" , siguiente)\n",
        "cola.to_string()\n",
        "while not cola.is_empty():\n",
        "        print(cola.delete())"
      ],
      "execution_count": 3,
      "outputs": [
        {
          "output_type": "stream",
          "name": "stdout",
          "text": [
            "Esta vacio??:  True\n",
            "numero de elementos:  0\n",
            "Esta vacio?:  False\n",
            "Numero de elementos:  3\n",
            "|10| <--|40| <--|20| <--|30| <--|50| <--|60| <--\n",
            "Atendiendo a : 10\n",
            "|40| <--|20| <--|30| <--|50| <--|60| <--\n",
            "60\n",
            "50\n",
            "40\n",
            "30\n",
            "20\n"
          ]
        }
      ]
    }
  ]
}