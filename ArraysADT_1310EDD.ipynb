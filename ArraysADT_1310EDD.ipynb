{
  "nbformat": 4,
  "nbformat_minor": 0,
  "metadata": {
    "colab": {
      "name": "ArraysADT_1310EDD.ipynb",
      "provenance": [],
      "authorship_tag": "ABX9TyN85G51EiMWKFWYJSpE0X1g",
      "include_colab_link": true
    },
    "kernelspec": {
      "name": "python3",
      "display_name": "Python 3"
    },
    "language_info": {
      "name": "python"
    }
  },
  "cells": [
    {
      "cell_type": "markdown",
      "metadata": {
        "id": "view-in-github",
        "colab_type": "text"
      },
      "source": [
        "<a href=\"https://colab.research.google.com/github/DiegoC1413/EstructuraDeDatos/blob/main/ArraysADT_1310EDD.ipynb\" target=\"_parent\"><img src=\"https://colab.research.google.com/assets/colab-badge.svg\" alt=\"Open In Colab\"/></a>"
      ]
    },
    {
      "cell_type": "code",
      "metadata": {
        "colab": {
          "base_uri": "https://localhost:8080/"
        },
        "id": "25j0UFOdBYJX",
        "outputId": "cb782cd8-ac4c-4f75-c874-9fc8919b06c3"
      },
      "source": [
        "class Array:\n",
        "    def __init__(self, tam):\n",
        "        self.__tamanio = tam\n",
        "        self.__data = [ 0 for x in range(self.__tamanio) ]\n",
        "    \n",
        "    def to_string(self):\n",
        "        info = \"\"\n",
        "        for dato in self.__data:\n",
        "            info = info + str(dato) +\"|\"\n",
        "\n",
        "        return  info \n",
        "    \n",
        "    def get_item (self , index ):\n",
        "          return self.__data[index]\n",
        "   \n",
        "    def get_lenght(self):\n",
        "        return len (self.__data )  \n",
        "\n",
        "    def set_item (self , dato , index):\n",
        "        if index >= 0 and index < self.get_lenght():\n",
        "            self.__data[index]  = dato\n",
        "        else:\n",
        "            print(\"Error:indice fuera de rango \")\n",
        "    \n",
        "    def clear (self , dato ):\n",
        "          self.__data = [  dato for x in range(self.__tamanio) ]\n",
        "\n",
        "\n",
        "\n",
        "\n",
        "ejemplo = Array(20)\n",
        "print(ejemplo.to_string() )\n",
        "print(ejemplo.get_item(2) )\n",
        "ejemplo.set_item (45 ,22)\n",
        "print(ejemplo.to_string())\n",
        "ejemplo.clear ( 4 )\n",
        "print(ejemplo.to_string() )\n",
        "print(ejemplo.get_lenght())"
      ],
      "execution_count": 7,
      "outputs": [
        {
          "output_type": "stream",
          "name": "stdout",
          "text": [
            "0|0|0|0|0|0|0|0|0|0|0|0|0|0|0|0|0|0|0|0|\n",
            "0\n",
            "Error:indice fuera de rango \n",
            "0|0|0|0|0|0|0|0|0|0|0|0|0|0|0|0|0|0|0|0|\n",
            "4|4|4|4|4|4|4|4|4|4|4|4|4|4|4|4|4|4|4|4|\n",
            "20\n"
          ]
        }
      ]
    },
    {
      "cell_type": "code",
      "metadata": {
        "colab": {
          "base_uri": "https://localhost:8080/"
        },
        "id": "6SanKe-_S5Xe",
        "outputId": "84f13af9-d62d-4e2c-d9f3-2d6b2925c651"
      },
      "source": [
        "lista = [3  * x for x in range (10)]\n",
        "print(lista)"
      ],
      "execution_count": 2,
      "outputs": [
        {
          "output_type": "stream",
          "name": "stdout",
          "text": [
            "[0, 3, 6, 9, 12, 15, 18, 21, 24, 27]\n"
          ]
        }
      ]
    },
    {
      "cell_type": "code",
      "metadata": {
        "colab": {
          "base_uri": "https://localhost:8080/"
        },
        "id": "RMRgaVhkT3cS",
        "outputId": "3d52e5cd-a5d8-4f11-ba0f-4c815c837867"
      },
      "source": [
        "!cat junio.dat"
      ],
      "execution_count": 10,
      "outputs": [
        {
          "output_type": "stream",
          "name": "stdout",
          "text": [
            "numero de trabajador, nombres, paterno, materno, horas extra, sueldo base, año de ingreso\r\n",
            "2345,CARLOS,PEREZ,CASTILLO,0,9850,2017\r\n",
            "5754,ANGEL,GOMEZ,GARRIDO,1,9850,2020\r\n",
            "5345,JESUS,MARTIN,SANTOS,2,9850,2016\r\n",
            "3267,DAVID,JIMENEZ,LOZANO,2,9850,2017\r\n",
            "8765,PEDRO,RUIZ,GUERRERO,2,9850,2017\r\n",
            "5454,DANIEL,HERNANDEZ,CANO,3,9850,2018\r\n",
            "3456,ALEJANDRO,DIAZ,PRIETO,2,9850,2018\r\n",
            "3445,MARIA,MORENO,MENDEZ,1,9850,2018\r\n",
            "9088,ALBERTO,MU�OZ,CRUZ,1,9850,2017\r\n",
            "8877,RAFAEL,ALVAREZ,FLORES,2,9850,2017\r\n",
            "6767,FERNANDO,ROMERO,HERRERA,4,9850,2019\r\n",
            "5654,PABLO,ALONSO,GALLEGO,1,9850,2019\r\n",
            "4323,JORGE,GUTIERREZ,MARQUEZ,2,9850,2020\r\n",
            "2232,RAMON,NAVARRO,LEON,1,9850,2016"
          ]
        }
      ]
    },
    {
      "cell_type": "code",
      "metadata": {
        "colab": {
          "base_uri": "https://localhost:8080/"
        },
        "id": "vrfSBpbVVmOs",
        "outputId": "a4401b54-5945-4d5c-9c63-dbaacd821929"
      },
      "source": [
        "archivo = open('junio.dat', 'rt', encoding= 'latin-1')\n",
        "print(archivo.read())"
      ],
      "execution_count": 13,
      "outputs": [
        {
          "output_type": "stream",
          "name": "stdout",
          "text": [
            "numero de trabajador, nombres, paterno, materno, horas extra, sueldo base, aÃ±o de ingreso\n",
            "2345,CARLOS,PEREZ,CASTILLO,0,9850,2017\n",
            "5754,ANGEL,GOMEZ,GARRIDO,1,9850,2020\n",
            "5345,JESUS,MARTIN,SANTOS,2,9850,2016\n",
            "3267,DAVID,JIMENEZ,LOZANO,2,9850,2017\n",
            "8765,PEDRO,RUIZ,GUERRERO,2,9850,2017\n",
            "5454,DANIEL,HERNANDEZ,CANO,3,9850,2018\n",
            "3456,ALEJANDRO,DIAZ,PRIETO,2,9850,2018\n",
            "3445,MARIA,MORENO,MENDEZ,1,9850,2018\n",
            "9088,ALBERTO,MUOZ,CRUZ,1,9850,2017\n",
            "8877,RAFAEL,ALVAREZ,FLORES,2,9850,2017\n",
            "6767,FERNANDO,ROMERO,HERRERA,4,9850,2019\n",
            "5654,PABLO,ALONSO,GALLEGO,1,9850,2019\n",
            "4323,JORGE,GUTIERREZ,MARQUEZ,2,9850,2020\n",
            "2232,RAMON,NAVARRO,LEON,1,9850,2016\n"
          ]
        }
      ]
    },
    {
      "cell_type": "code",
      "metadata": {
        "colab": {
          "base_uri": "https://localhost:8080/"
        },
        "id": "x8Ei0SNVW25M",
        "outputId": "0a1448e7-3b8a-4206-fb7e-19c9f61ebf59"
      },
      "source": [
        "class Trabajador:\n",
        "    def __init__(self, nt, nom , pat, mat, he, sb, ai):\n",
        "        self.__numero_trabajador = nt\n",
        "        self.__nombre = nom\n",
        "        self.__apellido_paterno = pat\n",
        "        self.__apellido_materno = mat\n",
        "        self.__horas_extras = he\n",
        "        self.__sueldo_base = sb\n",
        "        self.__anio_ingreso = ai    \n",
        "\n",
        "    #metodos de acceso\n",
        "    def set_numero_trabajador(self, nt):\n",
        "        self.__numero_trabajador = nt\n",
        "    def get_numero_trabajador(self):\n",
        "        return self.__numero_trabajador\n",
        "\n",
        "    def set_nombre(self, nom):\n",
        "        self.__nonmbre = nom\n",
        "    def get_nombre(self):\n",
        "        return self.__nonmbre\n",
        "\n",
        "    def set_apellido_paterno(self, pat):\n",
        "        self.__apellido_parterno = pat\n",
        "    def get_apellido_paterno(self):\n",
        "        return self.__apellido_parterno\n",
        "    \n",
        "    def set_apellido_materno(self, mat):\n",
        "        self.__apellido_parterno = mat\n",
        "    def get_apellido_materno(self):\n",
        "        return self.__apellido_marterno\n",
        "\n",
        "    def set_horas_extras(self, he):\n",
        "        self.__horas_extras = he\n",
        "    def get_horas_extras(self):\n",
        "        return self.__horas_extras\n",
        "    \n",
        "    def set_sueldo_base(self,sb):\n",
        "        self.__sueldo_base = sb\n",
        "    def get_sueldo_base(self):\n",
        "        return self.__sueldo_base\n",
        "    \n",
        "    def set_anio_ingreso (self, ai):\n",
        "        self.__anio_ingreso = ai\n",
        "    def get_anio_ingreso(self):\n",
        "        return self.__anio_ingreso\n",
        "    #metodos de uso general\n",
        "\n",
        "    def calcular_sueldo_mensual(self):\n",
        "        anios = 2021 - self.get_anio_ingreso()\n",
        "\n",
        "        sueldo = self.get_sueldo_base()\n",
        "        # agregar las horas extra\n",
        "\n",
        "        sueldo += self.get_horas_extras() * 276.5\n",
        "\n",
        "        sueldo = sueldo + (sueldo * anios * 0.03)\n",
        "        return sueldo\n",
        "\n",
        "    def to_string(self):\n",
        "        return 'Nombre: ' + self.__nombre + ' Sueldo: ' + str(self.calcular_sueldo_mensual() )\n",
        "\n",
        "    def calcular_antiguedad(self):\n",
        "        return 2021 - self.get_anio_ingreso() \n",
        "\n",
        "emp = Trabajador(2345, 'CARLOS', 'PEREZ', 'CASTILLO', 1 , 9859, 2017)\n",
        "print(emp.get_sueldo_base())\n",
        "print(emp.get_horas_extras())\n",
        "print(emp.calcular_antiguedad())\n",
        "print(emp.to_string())          \n"
      ],
      "execution_count": 64,
      "outputs": [
        {
          "output_type": "stream",
          "name": "stdout",
          "text": [
            "9859\n",
            "1\n",
            "4\n",
            "Nombre: CARLOS Sueldo: 11351.76\n"
          ]
        }
      ]
    },
    {
      "cell_type": "code",
      "metadata": {
        "colab": {
          "base_uri": "https://localhost:8080/",
          "height": 582
        },
        "id": "U_wIMFrTYzQU",
        "outputId": "8411ed50-ade5-41e8-c0df-b3f767010344"
      },
      "source": [
        "class NominaADT:\n",
        "    def __init__(self, ruta_archivo):\n",
        "        #abrir el archvo y desterminar el numero de empeloados ---> num_emp\n",
        "        archivo = open(ruta_archivo, 'rt', encoding= 'latin-1')\n",
        "        empleados = archivo.readlines()\n",
        "        del empleados[0]\n",
        "        for index in range (len(empleados)):\n",
        "            empleados[index] = empleados[index].strip().split( ',')\n",
        "        self.__data = Array(len(empleados))\n",
        "        cont = 0\n",
        "        for emp in empleados:\n",
        "            tmp = Trabajador( int(emp[0]), emp[1] , emp[2], emp[3], int(emp[4]) ,int(emp[5]), int(emp[6]))\n",
        "            self.__data.set_item(tmp, cont)\n",
        "            cont += 1 \n",
        "    \n",
        "    def buscar_mas_antiguo(self):\n",
        "        for index in range(self.__data.get_lenght()):\n",
        "            self.__data.get_item(index).calcular_antiguedad() \n",
        "            \n",
        "            #calculo de mas antuguio\n",
        "            \n",
        "            \n",
        "            \n",
        "        #iterar y buscara sobre array el de mayor antiguedad\n",
        "        \n",
        "    def buscar_menor_antiguead(self ): \n",
        "        pass\n",
        "\n",
        "    def calcular_sueldo(self):\n",
        "        for index in range (self.__data.get_lenght()):\n",
        "            print(self.__data.get_item(index).to_string())\n",
        "\n",
        "ejemplo = NominaADT('junio.dat')\n",
        "ejemplo.calcular_sueldo()\n",
        "ejemplo.buscar_mas_antiguo()"
      ],
      "execution_count": 105,
      "outputs": [
        {
          "output_type": "stream",
          "name": "stdout",
          "text": [
            "Nombre: CARLOS Sueldo: 11032.0\n",
            "Nombre: ANGEL Sueldo: 10430.295\n",
            "Nombre: JESUS Sueldo: 11963.45\n",
            "Nombre: DAVID Sueldo: 11651.36\n",
            "Nombre: PEDRO Sueldo: 11651.36\n",
            "Nombre: DANIEL Sueldo: 11640.655\n",
            "Nombre: ALEJANDRO Sueldo: 11339.27\n",
            "Nombre: MARIA Sueldo: 11037.885\n",
            "Nombre: ALBERTO Sueldo: 11341.68\n",
            "Nombre: RAFAEL Sueldo: 11651.36\n",
            "Nombre: FERNANDO Sueldo: 11613.36\n",
            "Nombre: PABLO Sueldo: 10734.09\n",
            "Nombre: JORGE Sueldo: 10715.09\n",
            "Nombre: RAMON Sueldo: 11645.475\n",
            "0\n"
          ]
        },
        {
          "output_type": "error",
          "ename": "AttributeError",
          "evalue": "ignored",
          "traceback": [
            "\u001b[0;31m---------------------------------------------------------------------------\u001b[0m",
            "\u001b[0;31mAttributeError\u001b[0m                            Traceback (most recent call last)",
            "\u001b[0;32m<ipython-input-105-ca3c06594a0b>\u001b[0m in \u001b[0;36m<module>\u001b[0;34m()\u001b[0m\n\u001b[1;32m     40\u001b[0m \u001b[0mejemplo\u001b[0m \u001b[0;34m=\u001b[0m \u001b[0mNominaADT\u001b[0m\u001b[0;34m(\u001b[0m\u001b[0;34m'junio.dat'\u001b[0m\u001b[0;34m)\u001b[0m\u001b[0;34m\u001b[0m\u001b[0;34m\u001b[0m\u001b[0m\n\u001b[1;32m     41\u001b[0m \u001b[0mejemplo\u001b[0m\u001b[0;34m.\u001b[0m\u001b[0mcalcular_sueldo\u001b[0m\u001b[0;34m(\u001b[0m\u001b[0;34m)\u001b[0m\u001b[0;34m\u001b[0m\u001b[0;34m\u001b[0m\u001b[0m\n\u001b[0;32m---> 42\u001b[0;31m \u001b[0mejemplo\u001b[0m\u001b[0;34m.\u001b[0m\u001b[0mbuscar_mas_antiguo\u001b[0m\u001b[0;34m(\u001b[0m\u001b[0;34m)\u001b[0m\u001b[0;34m\u001b[0m\u001b[0;34m\u001b[0m\u001b[0m\n\u001b[0m",
            "\u001b[0;32m<ipython-input-105-ca3c06594a0b>\u001b[0m in \u001b[0;36mbuscar_mas_antiguo\u001b[0;34m(self)\u001b[0m\n\u001b[1;32m     21\u001b[0m             \u001b[0mmax\u001b[0m \u001b[0;34m=\u001b[0m \u001b[0;36m0\u001b[0m\u001b[0;34m\u001b[0m\u001b[0;34m\u001b[0m\u001b[0m\n\u001b[1;32m     22\u001b[0m             \u001b[0;32mfor\u001b[0m \u001b[0mi\u001b[0m \u001b[0;32min\u001b[0m \u001b[0mrange\u001b[0m \u001b[0;34m(\u001b[0m\u001b[0mindex\u001b[0m\u001b[0;34m)\u001b[0m\u001b[0;34m:\u001b[0m\u001b[0;34m\u001b[0m\u001b[0;34m\u001b[0m\u001b[0m\n\u001b[0;32m---> 23\u001b[0;31m                 \u001b[0mnum\u001b[0m \u001b[0;34m=\u001b[0m \u001b[0mself\u001b[0m\u001b[0;34m.\u001b[0m\u001b[0m__calcular_antiguedad\u001b[0m\u001b[0;34m(\u001b[0m\u001b[0;34m)\u001b[0m\u001b[0;34m\u001b[0m\u001b[0;34m\u001b[0m\u001b[0m\n\u001b[0m\u001b[1;32m     24\u001b[0m                 \u001b[0;32mif\u001b[0m \u001b[0mnum\u001b[0m \u001b[0;34m>\u001b[0m \u001b[0mmax\u001b[0m\u001b[0;34m:\u001b[0m\u001b[0;34m\u001b[0m\u001b[0;34m\u001b[0m\u001b[0m\n\u001b[1;32m     25\u001b[0m                     \u001b[0mmax\u001b[0m \u001b[0;34m=\u001b[0m \u001b[0mnum\u001b[0m\u001b[0;34m\u001b[0m\u001b[0;34m\u001b[0m\u001b[0m\n",
            "\u001b[0;31mAttributeError\u001b[0m: 'NominaADT' object has no attribute '_NominaADT__calcular_antiguedad'"
          ]
        }
      ]
    },
    {
      "cell_type": "code",
      "metadata": {
        "id": "RfArOLszZNnQ"
      },
      "source": [
        ""
      ],
      "execution_count": null,
      "outputs": []
    }
  ]
}