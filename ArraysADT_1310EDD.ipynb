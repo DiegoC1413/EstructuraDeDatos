{
  "nbformat": 4,
  "nbformat_minor": 0,
  "metadata": {
    "colab": {
      "name": "ArraysADT_1310EDD.ipynb",
      "provenance": [],
      "authorship_tag": "ABX9TyPS6Es2Tm8MLxVahiBUY33E",
      "include_colab_link": true
    },
    "kernelspec": {
      "name": "python3",
      "display_name": "Python 3"
    },
    "language_info": {
      "name": "python"
    }
  },
  "cells": [
    {
      "cell_type": "markdown",
      "metadata": {
        "id": "view-in-github",
        "colab_type": "text"
      },
      "source": [
        "<a href=\"https://colab.research.google.com/github/DiegoC1413/EstructuraDeDatos/blob/main/ArraysADT_1310EDD.ipynb\" target=\"_parent\"><img src=\"https://colab.research.google.com/assets/colab-badge.svg\" alt=\"Open In Colab\"/></a>"
      ]
    },
    {
      "cell_type": "code",
      "metadata": {
        "colab": {
          "base_uri": "https://localhost:8080/"
        },
        "id": "25j0UFOdBYJX",
        "outputId": "c227fc89-3e2a-48a0-8f0e-3d68ee7f3e26"
      },
      "source": [
        "class Array:\n",
        "    def __init__(self, tam):\n",
        "        self.__tamanio = tam\n",
        "        self.__data = [ 0 for x in range(self.__tamanio) ]\n",
        "    \n",
        "    def to_string(self):\n",
        "        info = \"\"\n",
        "        for dato in self.__data:\n",
        "            info = info + str(dato) +\"|\"\n",
        "\n",
        "        return  info \n",
        "    \n",
        "    def get_item (self , index ):\n",
        "          return self.__data[index]\n",
        "   \n",
        "    def get_lenght(self):\n",
        "        return len (self.__data )  \n",
        "\n",
        "    def set_item (self , dato , index):\n",
        "        if index >= 0 and index < self.get_lenght():\n",
        "            self.__data[index]  = dato\n",
        "        else:\n",
        "            print(\"Error:indice fuera de rango \")\n",
        "    \n",
        "    def clear (self , dato ):\n",
        "          self.__data = [  dato for x in range(self.__tamanio) ]\n",
        "\n",
        "\n",
        "\n",
        "\n",
        "ejemplo = Array(20)\n",
        "print(ejemplo.to_string() )\n",
        "print(ejemplo.get_item(2) )\n",
        "ejemplo.set_item (45 ,22)\n",
        "print(ejemplo.to_string())\n",
        "ejemplo.clear ( 4 )\n",
        "print(ejemplo.to_string() )\n",
        "print(ejemplo.get_lenght())"
      ],
      "execution_count": 4,
      "outputs": [
        {
          "output_type": "stream",
          "name": "stdout",
          "text": [
            "0|0|0|0|0|0|0|0|0|0|0|0|0|0|0|0|0|0|0|0|\n",
            "0\n",
            "Error:indice fuera de rango \n",
            "0|0|0|0|0|0|0|0|0|0|0|0|0|0|0|0|0|0|0|0|\n",
            "4|4|4|4|4|4|4|4|4|4|4|4|4|4|4|4|4|4|4|4|\n",
            "20\n"
          ]
        }
      ]
    },
    {
      "cell_type": "code",
      "metadata": {
        "colab": {
          "base_uri": "https://localhost:8080/"
        },
        "id": "6SanKe-_S5Xe",
        "outputId": "84f13af9-d62d-4e2c-d9f3-2d6b2925c651"
      },
      "source": [
        "lista = [3  * x for x in range (10)]\n",
        "print(lista)"
      ],
      "execution_count": 2,
      "outputs": [
        {
          "output_type": "stream",
          "name": "stdout",
          "text": [
            "[0, 3, 6, 9, 12, 15, 18, 21, 24, 27]\n"
          ]
        }
      ]
    },
    {
      "cell_type": "code",
      "metadata": {
        "colab": {
          "base_uri": "https://localhost:8080/"
        },
        "id": "RMRgaVhkT3cS",
        "outputId": "3d52e5cd-a5d8-4f11-ba0f-4c815c837867"
      },
      "source": [
        "!cat junio.dat"
      ],
      "execution_count": 10,
      "outputs": [
        {
          "output_type": "stream",
          "name": "stdout",
          "text": [
            "numero de trabajador, nombres, paterno, materno, horas extra, sueldo base, año de ingreso\r\n",
            "2345,CARLOS,PEREZ,CASTILLO,0,9850,2017\r\n",
            "5754,ANGEL,GOMEZ,GARRIDO,1,9850,2020\r\n",
            "5345,JESUS,MARTIN,SANTOS,2,9850,2016\r\n",
            "3267,DAVID,JIMENEZ,LOZANO,2,9850,2017\r\n",
            "8765,PEDRO,RUIZ,GUERRERO,2,9850,2017\r\n",
            "5454,DANIEL,HERNANDEZ,CANO,3,9850,2018\r\n",
            "3456,ALEJANDRO,DIAZ,PRIETO,2,9850,2018\r\n",
            "3445,MARIA,MORENO,MENDEZ,1,9850,2018\r\n",
            "9088,ALBERTO,MU�OZ,CRUZ,1,9850,2017\r\n",
            "8877,RAFAEL,ALVAREZ,FLORES,2,9850,2017\r\n",
            "6767,FERNANDO,ROMERO,HERRERA,4,9850,2019\r\n",
            "5654,PABLO,ALONSO,GALLEGO,1,9850,2019\r\n",
            "4323,JORGE,GUTIERREZ,MARQUEZ,2,9850,2020\r\n",
            "2232,RAMON,NAVARRO,LEON,1,9850,2016"
          ]
        }
      ]
    },
    {
      "cell_type": "code",
      "metadata": {
        "colab": {
          "base_uri": "https://localhost:8080/"
        },
        "id": "vrfSBpbVVmOs",
        "outputId": "a4401b54-5945-4d5c-9c63-dbaacd821929"
      },
      "source": [
        "archivo = open('junio.dat', 'rt', encoding= 'latin-1')\n",
        "print(archivo.read())"
      ],
      "execution_count": 13,
      "outputs": [
        {
          "output_type": "stream",
          "name": "stdout",
          "text": [
            "numero de trabajador, nombres, paterno, materno, horas extra, sueldo base, aÃ±o de ingreso\n",
            "2345,CARLOS,PEREZ,CASTILLO,0,9850,2017\n",
            "5754,ANGEL,GOMEZ,GARRIDO,1,9850,2020\n",
            "5345,JESUS,MARTIN,SANTOS,2,9850,2016\n",
            "3267,DAVID,JIMENEZ,LOZANO,2,9850,2017\n",
            "8765,PEDRO,RUIZ,GUERRERO,2,9850,2017\n",
            "5454,DANIEL,HERNANDEZ,CANO,3,9850,2018\n",
            "3456,ALEJANDRO,DIAZ,PRIETO,2,9850,2018\n",
            "3445,MARIA,MORENO,MENDEZ,1,9850,2018\n",
            "9088,ALBERTO,MUOZ,CRUZ,1,9850,2017\n",
            "8877,RAFAEL,ALVAREZ,FLORES,2,9850,2017\n",
            "6767,FERNANDO,ROMERO,HERRERA,4,9850,2019\n",
            "5654,PABLO,ALONSO,GALLEGO,1,9850,2019\n",
            "4323,JORGE,GUTIERREZ,MARQUEZ,2,9850,2020\n",
            "2232,RAMON,NAVARRO,LEON,1,9850,2016\n"
          ]
        }
      ]
    },
    {
      "cell_type": "code",
      "metadata": {
        "id": "x8Ei0SNVW25M"
      },
      "source": [
        "class Trabajador:\n",
        "    def __init__(self, nt, nom , pat, mat, he, sb, ai):\n",
        "        self.__numero_trabajador = nt\n",
        "        self.__nombre = nom\n",
        "        self.__apellido_paterno = pat\n",
        "        self.__apellido_materno = mat\n",
        "        self.__horas_extras = he\n",
        "        self.__sueldo_base = sb\n",
        "        self.__anio_ingreso = ai    \n",
        "\n",
        "    #metodos de acceso\n",
        "    def set_numero_trabajador(self, nt):\n",
        "        self.__numero_trabajador = nt\n",
        "    def get_numero_trabjador(self):\n",
        "        return self.__numero_trabajador\n",
        "\n",
        "    def set_nombre(self, nom):\n",
        "        self.__nonmbre = nom\n",
        "    def get_numero_trabjador(self):\n",
        "        return self.__nonmbre\n",
        "\n",
        "    def set_apellido_paterno(self, pat):\n",
        "        self.__apellido_parterno = pat\n",
        "    def get_apellido_paterno(self):\n",
        "        return self.__apellido_parterno\n",
        "    \n",
        "    def set_apellido_materno(self, mat):\n",
        "        self.__apellido_parterno = mat\n",
        "    def get_apellido_materno(self):\n",
        "        return self.__apellido_marterno\n",
        "\n",
        "    def set_horas_extras(self, he):\n",
        "        self.__horas_extras = he\n",
        "    def get_horas_extras(self):\n",
        "        return self.__horas_extras\n",
        "    \n",
        "    def set_sueldo_base(self,sb):\n",
        "        self.__sueldo_base = sb\n",
        "    def get_sueldo_base(self):\n",
        "        return self.__sueldo_base\n",
        "    \n",
        "    def set_anio_ingreso (self, ai):\n",
        "        self.__anio_ingreso = ai\n",
        "    def get_anio_ingreso(self):\n",
        "        return self.__anio_ingreso\n",
        "    #metodos de uso general\n"
      ],
      "execution_count": null,
      "outputs": []
    },
    {
      "cell_type": "code",
      "metadata": {
        "id": "U_wIMFrTYzQU"
      },
      "source": [
        "class NominaADT:\n",
        "    def __init__(self, ruta_archivo):\n",
        "        #abrir el archvo y desterminar el numero de empeloados ---> num_emp\n",
        "        self.__data = Array(num_emp)\n",
        "    def calcular_sueldos (self ):\n",
        "        #iterar sobre el array y hacer el calculo de sueldos\n",
        "\n",
        "    def buscar_mas_antiguo(self):\n",
        "        #iterar y buscara sobre array el de mayor antiguedad\n",
        "\n",
        "    def busacar_menor_antiguead(self ) \n"
      ],
      "execution_count": null,
      "outputs": []
    }
  ]
}