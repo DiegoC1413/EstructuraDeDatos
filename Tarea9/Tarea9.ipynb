{
  "nbformat": 4,
  "nbformat_minor": 0,
  "metadata": {
    "colab": {
      "name": "Tarea9.ipynb",
      "provenance": []
    },
    "kernelspec": {
      "name": "python3",
      "display_name": "Python 3"
    },
    "language_info": {
      "name": "python"
    }
  },
  "cells": [
    {
      "cell_type": "code",
      "execution_count": 1,
      "metadata": {
        "id": "gWKGQRRG8prM"
      },
      "outputs": [],
      "source": [
        "class StackADT:\n",
        "    def __init__( self ):\n",
        "        self.__data = list()\n",
        "\n",
        "    # regresa true si la pila está vacia\n",
        "    def is_empty( self ):\n",
        "         return   len( self.__data ) == 0\n",
        "\n",
        "    def get_lenght( self ):\n",
        "        return  len( self.__data) \n",
        "\n",
        "    def pop( self ):\n",
        "        if self.is_empty():\n",
        "            print( \"Pila vacia, nada que sacar \")\n",
        "        else:\n",
        "            return self.__data.pop()\n",
        "\n",
        "    def peek( self ):\n",
        "        if self.is_empty():\n",
        "            print( \"Pila vacia, nada que sacar \")\n",
        "        else:\n",
        "            return self.__data[ -1 ]\n",
        "\n",
        "    def push( self , value ):\n",
        "        self.__data.append( value )\n",
        "\n",
        "    def to_string( self ):\n",
        "        for item in self.__data[::-1]:\n",
        "            print( f\"| { item } |\")"
      ]
    },
    {
      "cell_type": "code",
      "source": [
        "!cat Codigo_Sueldos.cpp"
      ],
      "metadata": {
        "colab": {
          "base_uri": "https://localhost:8080/"
        },
        "id": "Kc3yCYsl9ElO",
        "outputId": "8322a63a-726d-463f-be31-d8b1110d82d6"
      },
      "execution_count": 2,
      "outputs": [
        {
          "output_type": "stream",
          "name": "stdout",
          "text": [
            "cat: Codigo_Sueldos.cpp: No such file or directory\n"
          ]
        }
      ]
    },
    {
      "cell_type": "code",
      "source": [
        "entrada = open( 'Codigo_Sueldos.cpp' , 'rt' )\n",
        "codigo = entrada.read()\n",
        "pilaControl = StackADT()\n",
        "pilaControl.push(\"#\") #caracter de pila vacía\n",
        "\n",
        "#Balanceo de llaves\n",
        "\n",
        "for letra in codigo:\n",
        "    #print(f\"--> { letra } <--\")\n",
        "    if letra == '{':           # regla 1\n",
        "        pilaControl.push(\"{\")\n",
        "    elif letra == '}':         # regla 2\n",
        "        basura = pilaControl.pop()\n",
        "    else:\n",
        "        pass\n",
        "\n",
        "# NOTA: Este codigo aun no contempla desbalanceo de mas llaves de cierre\n",
        "\n",
        "if pilaControl.peek() == '#':\n",
        "    print(\"El codigo proporcionado está correctamente balanceado\")\n",
        "else:\n",
        "    print(\"El codigo no está balanceado en llaves { y }\")\n",
        "\n",
        "\n",
        "#Balanceo de parentesis\n",
        "\n",
        "entrada = open( 'Codigo_Sueldos.cpp' , 'rt' )\n",
        "codigo = entrada.read()\n",
        "pilaControl = StackADT()\n",
        "pilaControl.push(\"#\")\n",
        "\n",
        "for letra in codigo:\n",
        "    #print(f\"--> { letra } <--\")\n",
        "    if letra == '(':\n",
        "        pilaControl.push(\"(\")\n",
        "    elif letra == ')':\n",
        "        basura = pilaControl.pop()\n",
        "    else: \n",
        "        pass\n",
        "\n",
        "if pilaControl.peek() == '#':\n",
        "    print(\"El codigo proporcionado está correctamente balanceado\")\n",
        "else:\n",
        "    print(\"El codigo no está  balanceado en parentesis ( y )\")"
      ],
      "metadata": {
        "colab": {
          "base_uri": "https://localhost:8080/",
          "height": 235
        },
        "id": "wnBxjp_G9KX5",
        "outputId": "c3fa4e9a-95f2-4b64-e98c-1f3f2aa4c5fa"
      },
      "execution_count": 3,
      "outputs": [
        {
          "output_type": "error",
          "ename": "FileNotFoundError",
          "evalue": "ignored",
          "traceback": [
            "\u001b[0;31m---------------------------------------------------------------------------\u001b[0m",
            "\u001b[0;31mFileNotFoundError\u001b[0m                         Traceback (most recent call last)",
            "\u001b[0;32m<ipython-input-3-0137128b45eb>\u001b[0m in \u001b[0;36m<module>\u001b[0;34m()\u001b[0m\n\u001b[0;32m----> 1\u001b[0;31m \u001b[0mentrada\u001b[0m \u001b[0;34m=\u001b[0m \u001b[0mopen\u001b[0m\u001b[0;34m(\u001b[0m \u001b[0;34m'Codigo_Sueldos.cpp'\u001b[0m \u001b[0;34m,\u001b[0m \u001b[0;34m'rt'\u001b[0m \u001b[0;34m)\u001b[0m\u001b[0;34m\u001b[0m\u001b[0;34m\u001b[0m\u001b[0m\n\u001b[0m\u001b[1;32m      2\u001b[0m \u001b[0mcodigo\u001b[0m \u001b[0;34m=\u001b[0m \u001b[0mentrada\u001b[0m\u001b[0;34m.\u001b[0m\u001b[0mread\u001b[0m\u001b[0;34m(\u001b[0m\u001b[0;34m)\u001b[0m\u001b[0;34m\u001b[0m\u001b[0;34m\u001b[0m\u001b[0m\n\u001b[1;32m      3\u001b[0m \u001b[0mpilaControl\u001b[0m \u001b[0;34m=\u001b[0m \u001b[0mStackADT\u001b[0m\u001b[0;34m(\u001b[0m\u001b[0;34m)\u001b[0m\u001b[0;34m\u001b[0m\u001b[0;34m\u001b[0m\u001b[0m\n\u001b[1;32m      4\u001b[0m \u001b[0mpilaControl\u001b[0m\u001b[0;34m.\u001b[0m\u001b[0mpush\u001b[0m\u001b[0;34m(\u001b[0m\u001b[0;34m\"#\"\u001b[0m\u001b[0;34m)\u001b[0m \u001b[0;31m#caracter de pila vacía\u001b[0m\u001b[0;34m\u001b[0m\u001b[0;34m\u001b[0m\u001b[0m\n\u001b[1;32m      5\u001b[0m \u001b[0;34m\u001b[0m\u001b[0m\n",
            "\u001b[0;31mFileNotFoundError\u001b[0m: [Errno 2] No such file or directory: 'Codigo_Sueldos.cpp'"
          ]
        }
      ]
    },
    {
      "cell_type": "code",
      "source": [
        "!cat If-Else.c"
      ],
      "metadata": {
        "id": "sWyf47-G9QJr"
      },
      "execution_count": null,
      "outputs": []
    },
    {
      "cell_type": "code",
      "source": [
        "entrada2 = open( 'If-Else.c' , 'rt' )\n",
        "codigo = entrada2.read()\n",
        "pilaControl2 = StackADT()\n",
        "pilaControl2.push(\"#\") \n",
        "\n",
        "#Balanceo de llaves\n",
        "\n",
        "for letra in codigo:\n",
        "    if letra == '{':           \n",
        "        pilaControl2.push(\"{\")\n",
        "    elif letra == '}':         \n",
        "        basura = pilaControl2.pop()\n",
        "    else:\n",
        "        pass\n",
        "\n",
        "\n",
        "if pilaControl2.peek() == '#':\n",
        "    print(\"El codigo proporcionado está correctamente balanceado\")\n",
        "else:\n",
        "    print(\"El codigo no está balanceado en llaves { y }\")\n",
        "\n",
        "\n",
        "#Balanceo de parentesis\n",
        "\n",
        "entrada2 = open( 'Codigo_Sueldos.cpp' , 'rt' )\n",
        "codigo = entrada2.read()\n",
        "pilaControl2 = StackADT()\n",
        "pilaControl2.push(\"#\")\n",
        "\n",
        "for letra in codigo:\n",
        "\n",
        "    if letra == '(':\n",
        "        pilaControl2.push(\"(\")\n",
        "    elif letra == ')':\n",
        "        basura = pilaControl2.pop()\n",
        "    else: \n",
        "        pass\n",
        "\n",
        "if pilaControl2.peek() == '#':\n",
        "    print(\"El codigo proporcionado está correctamente balanceado\")\n",
        "else:\n",
        "    print(\"El codigo no está  balanceado en parentesis ( y )\")"
      ],
      "metadata": {
        "id": "YKkZSkkj9Vrz"
      },
      "execution_count": null,
      "outputs": []
    },
    {
      "cell_type": "code",
      "source": [
        "!cat Persona.java"
      ],
      "metadata": {
        "id": "btp-AL2a9aD8"
      },
      "execution_count": null,
      "outputs": []
    },
    {
      "cell_type": "code",
      "source": [
        "entrada3 = open( 'Persona.java' , 'rt' )\n",
        "codigo = entrada3.read()\n",
        "pilaControl3 = StackADT()\n",
        "pilaControl3.push(\"package\") \n",
        "\n",
        "#Balanceo de llaves\n",
        "\n",
        "for letra in codigo:\n",
        "    if letra == '{':           \n",
        "        pilaControl3.push(\"{\")\n",
        "    elif letra == '}':         \n",
        "        basura = pilaControl3.pop()\n",
        "    else:\n",
        "        pass\n",
        "\n",
        "\n",
        "if pilaControl3.peek() == 'package':\n",
        "    print(\"El codigo proporcionado está correctamente balanceado\")\n",
        "else:\n",
        "    print(\"El codigo no está balanceado en llaves { y }\")\n",
        "\n",
        "\n",
        "#Balanceo de parentesis\n",
        "\n",
        "entrada3 = open( 'Persona.java' , 'rt' )\n",
        "codigo = entrada3.read()\n",
        "pilaControl3 = StackADT()\n",
        "pilaControl3.push(\"package\")\n",
        "\n",
        "for letra in codigo:\n",
        "    if letra == '(':\n",
        "        pilaControl3.push(\"(\")\n",
        "    elif letra == ')':\n",
        "        basura = pilaControl3.pop()\n",
        "    else: \n",
        "        pass\n",
        "\n",
        "if pilaControl3.peek() == 'package':\n",
        "    print(\"El codigo proporcionado está correctamente balanceado\")\n",
        "else:\n",
        "    print(\"El codigo no está  balanceado en parentesis ( y )\")"
      ],
      "metadata": {
        "id": "RNnDcBFa9dH1"
      },
      "execution_count": null,
      "outputs": []
    }
  ]
}