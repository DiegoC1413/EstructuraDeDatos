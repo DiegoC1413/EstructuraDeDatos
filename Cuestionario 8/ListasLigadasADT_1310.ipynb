{
  "nbformat": 4,
  "nbformat_minor": 0,
  "metadata": {
    "colab": {
      "name": "ListasLigadasADT_1310.ipynb",
      "provenance": []
    },
    "kernelspec": {
      "name": "python3",
      "display_name": "Python 3"
    },
    "language_info": {
      "name": "python"
    }
  },
  "cells": [
    {
      "cell_type": "code",
      "metadata": {
        "id": "BiS6p5rDPOq-"
      },
      "source": [
        "class Nodo:\n",
        "    def __init__( self , valor , siguiente = None ):\n",
        "        self.data = valor\n",
        "        self.next = siguiente"
      ],
      "execution_count": 1,
      "outputs": []
    },
    {
      "cell_type": "code",
      "metadata": {
        "colab": {
          "base_uri": "https://localhost:8080/"
        },
        "id": "Qsuos-BqPbnP",
        "outputId": "b3e8c0eb-149d-4ce3-b2cb-226689ff1969"
      },
      "source": [
        "head = Nodo( 10 )\n",
        "print( head.data )"
      ],
      "execution_count": 2,
      "outputs": [
        {
          "output_type": "stream",
          "name": "stdout",
          "text": [
            "10\n"
          ]
        }
      ]
    },
    {
      "cell_type": "code",
      "metadata": {
        "colab": {
          "base_uri": "https://localhost:8080/"
        },
        "id": "rph50Y11PgA-",
        "outputId": "500a8eaa-0d57-4b5c-ac1f-d4a121cc15c4"
      },
      "source": [
        "head = Nodo(10)\n",
        "head.next = Nodo(20)\n",
        "print(f\"Primero:{head.data}\")\n",
        "print(f\"Segundo:{head.next.data}\")\n",
        "\n",
        "head = Nodo( 10 , Nodo(20))\n",
        "print(f\"Primero:{head.data}\")\n",
        "print(f\"Segundo:{head.next.data}\")\n",
        "\n",
        "curr_node = head\n",
        "while curr_node != None:\n",
        "    print(f\"| { curr_node.data } | -->\" , end=\"\" )\n",
        "    curr_node = curr_node.next"
      ],
      "execution_count": 3,
      "outputs": [
        {
          "output_type": "stream",
          "name": "stdout",
          "text": [
            "Primero:10\n",
            "Segundo:20\n",
            "Primero:10\n",
            "Segundo:20\n",
            "| 10 | -->| 20 | -->"
          ]
        }
      ]
    },
    {
      "cell_type": "code",
      "metadata": {
        "colab": {
          "base_uri": "https://localhost:8080/"
        },
        "id": "JTDBv9rXPklF",
        "outputId": "80b14746-0738-499d-b42b-6d7a9ed414d8"
      },
      "source": [
        "head = Nodo(10 , Nodo(20 , Nodo(30 , Nodo(40))))\n",
        "curr_node = head\n",
        "while curr_node != None:\n",
        "    print(f\"| { curr_node.data } | -->\" , end=\"\" )\n",
        "    curr_node = curr_node.next \n",
        "print(\"\")\n",
        "print(head.data)\n",
        "curr_node = head\n",
        "while curr_node.next != None:\n",
        "    curr_node= curr_node.next\n",
        "print(curr_node.data)\n",
        "\n",
        "curr_node = head\n",
        "while curr_node.data != 20:\n",
        "    curr_node = curr_node.next\n",
        "print(curr_node.data)\n",
        "\n",
        "curr_node.next = Nodo(25, curr_node.next)\n",
        "print(\"Despues de insertar 25\")\n",
        "\n",
        "curr_node = head\n",
        "while curr_node != None:\n",
        "    print(f\"| { curr_node.data } | -->\" , end=\"\" )\n",
        "    curr_node = curr_node.next"
      ],
      "execution_count": 4,
      "outputs": [
        {
          "output_type": "stream",
          "name": "stdout",
          "text": [
            "| 10 | -->| 20 | -->| 30 | -->| 40 | -->\n",
            "10\n",
            "40\n",
            "20\n",
            "Despues de insertar 25\n",
            "| 10 | -->| 20 | -->| 25 | -->| 30 | -->| 40 | -->"
          ]
        }
      ]
    },
    {
      "cell_type": "code",
      "metadata": {
        "id": "PsZchdFoPq8f"
      },
      "source": [
        "class LinkedList:\n",
        "    def __init__( self ):\n",
        "        self.head = None\n",
        "\n",
        "    def is_empty( self ):\n",
        "        return self.head == None\n",
        "\n",
        "    def get_tail( self ):\n",
        "        if self.is_empty():\n",
        "            return None\n",
        "        else:     \n",
        "            curr_node = self.head\n",
        "            while curr_node.next != None:\n",
        "                curr_node = curr_node.next\n",
        "            return curr_node\n",
        "\n",
        "    def append( self , value ):\n",
        "        if self.head == None:\n",
        "            self.head = Nodo( value)\n",
        "        else:\n",
        "            curr_node = self.head\n",
        "            while curr_node.next != None:\n",
        "                curr_node = curr_node.next\n",
        "            curr_node.next = Nodo(value)\n",
        "\n",
        "    def transversal( self ):\n",
        "        curr_node = self.head\n",
        "        while curr_node != None:\n",
        "            print(f\"| { curr_node.data } | -->\" , end=\"\")\n",
        "            curr_node = curr_node.next\n",
        "        print(\"\")\n",
        "\n",
        "    def remove( self , value ):\n",
        "        if self.head == None:\n",
        "            print(\"lista vacia, no se puede remover nada\")\n",
        "        else:\n",
        "            curr_node = self.head\n",
        "            aux = None\n",
        "            while curr_node.data != value:\n",
        "                aux = curr_node\n",
        "                curr_node = curr_node.next\n",
        "            if curr_node != None:\n",
        "                aux.next = curr_node.next\n",
        "                curr_nodee = None    \n",
        "\n",
        "    def preppend( self , value ):\n",
        "        if self.head == None:\n",
        "            print(\"Esta vacio , no se puede hacer preppend\")\n",
        "        else:\n",
        "            self.head = Nodo( value , self.head )"
      ],
      "execution_count": 5,
      "outputs": []
    },
    {
      "cell_type": "code",
      "metadata": {
        "colab": {
          "base_uri": "https://localhost:8080/"
        },
        "id": "5WTr-zsWPtcn",
        "outputId": "90c1655e-a407-466b-d9d2-dcd2afb9d226"
      },
      "source": [
        "lista = LinkedList()\n",
        "if lista.is_empty():\n",
        "    print(\"La lista esta vacia\")\n",
        "else:\n",
        "    print(\"La lista no esta vacia\")\n",
        "\n",
        "lista.append(10)\n",
        "lista.append(20)\n",
        "lista.append(30)\n",
        "lista.append(40)\n",
        "lista.append(50)\n",
        "\n",
        "nodo = lista.get_tail()\n",
        "if nodo != None:\n",
        "    print(nodo.data)\n",
        "else:\n",
        "    print(\"Lista esta vacia\")\n",
        "\n",
        "lista.transversal()\n",
        "lista.remove(30)\n",
        "lista.transversal()\n",
        "lista.preppend(5)\n",
        "lista.transversal()"
      ],
      "execution_count": 6,
      "outputs": [
        {
          "output_type": "stream",
          "name": "stdout",
          "text": [
            "La lista esta vacia\n",
            "50\n",
            "| 10 | -->| 20 | -->| 30 | -->| 40 | -->| 50 | -->\n",
            "| 10 | -->| 20 | -->| 40 | -->| 50 | -->\n",
            "| 5 | -->| 10 | -->| 20 | -->| 40 | -->| 50 | -->\n"
          ]
        }
      ]
    },
    {
      "cell_type": "code",
      "metadata": {
        "id": "iCjPKNByPwiz"
      },
      "source": [
        ""
      ],
      "execution_count": null,
      "outputs": []
    }
  ]
}